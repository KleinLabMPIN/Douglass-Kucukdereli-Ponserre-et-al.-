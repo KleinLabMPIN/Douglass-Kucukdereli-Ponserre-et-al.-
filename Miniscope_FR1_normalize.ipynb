{
 "cells": [
  {
   "cell_type": "code",
   "execution_count": 1,
   "metadata": {
    "collapsed": true
   },
   "outputs": [],
   "source": [
    "%matplotlib inline\n",
    "import pandas as pd\n",
    "import numpy as np\n",
    "import matplotlib.pyplot as plt\n",
    "import matplotlib.patches as mpatches\n",
    "from miniscope.imagingIO import loopMice, loadData, loadBeh, getBeh\n",
    "from miniscope.analysis import dffCalc, filtData, smoothData, normData\n",
    "from miniscope.events import getEvents\n",
    "from miniscope.trials import markTrials\n",
    "from miniscope.bouts import getBouts, getBoutDur, markBouts\n",
    "from miniscope.statistics import stdCalc, getBoutMeans, getStats\n",
    "from miniscope.plotter import plotMean, plotHeat, plotTrials"
   ]
  },
  {
   "cell_type": "code",
   "execution_count": 2,
   "metadata": {
    "collapsed": true
   },
   "outputs": [],
   "source": [
    "# Start gathering the data from FR1 experiment\n",
    "# Mouse IDs and dataset IDs\n",
    "mice = [(8404, 6), (8857, 3), (8864, 1)]\n",
    "# Parameters\n",
    "# Behavior type\n",
    "behType = 'FR1'\n",
    "# Imaging frame rate\n",
    "fs = 0.05\n",
    "# Which trials to include\n",
    "trials=[1,12]\n",
    "# Do you want to save?\n",
    "save = False"
   ]
  },
  {
   "cell_type": "code",
   "execution_count": 3,
   "metadata": {
    "collapsed": true
   },
   "outputs": [],
   "source": [
    "# Get file paths for imaging data and behavior timestamps\n",
    "fileList = loopMice(mice, behType)\n",
    "\n",
    "# Load the imaging data\n",
    "dataList = loadData(mice, behType)\n",
    "\n",
    "# Load the behaviour timestamps\n",
    "eventList = getBeh(mice, fileList['Behaviour'], behType)"
   ]
  },
  {
   "cell_type": "code",
   "execution_count": 4,
   "metadata": {
    "collapsed": false
   },
   "outputs": [],
   "source": [
    "# dFF and plot again\n",
    "filtList = filtData(mice, dffCalc(mice, dataList, lowest=False), cutoff=3.0, order=6)\n",
    "dFFList = smoothData(mice, filtList, window=5)"
   ]
  },
  {
   "cell_type": "code",
   "execution_count": 5,
   "metadata": {
    "collapsed": false,
    "scrolled": true
   },
   "outputs": [],
   "source": [
    "# Normalize the data\n",
    "normList = normData(mice, dFFList)"
   ]
  }
 ],
 "metadata": {
  "kernelspec": {
   "display_name": "Python 2",
   "language": "python",
   "name": "python2"
  },
  "language_info": {
   "codemirror_mode": {
    "name": "ipython",
    "version": 2
   },
   "file_extension": ".py",
   "mimetype": "text/x-python",
   "name": "python",
   "nbconvert_exporter": "python",
   "pygments_lexer": "ipython2",
   "version": "2.7.11"
  }
 },
 "nbformat": 4,
 "nbformat_minor": 0
}
