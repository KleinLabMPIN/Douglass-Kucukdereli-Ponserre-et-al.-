{
 "cells": [
  {
   "cell_type": "code",
   "execution_count": 1,
   "metadata": {
    "collapsed": false
   },
   "outputs": [],
   "source": [
    "%matplotlib inline\n",
    "import pandas as pd\n",
    "import numpy as np\n",
    "import matplotlib.pyplot as plt\n",
    "import matplotlib.patches as mpatches\n",
    "from miniscope.imagingIO import loopMice, loadData, loadBeh, getBeh\n",
    "from miniscope.analysis import dffCalc, filtData, smoothData\n",
    "from miniscope.events import getEvents\n",
    "from miniscope.trials import markTrials\n",
    "from miniscope.bouts import getBouts, getBoutDur, getBouts_\n",
    "from miniscope.statistics import stdCalc, getBoutMeans, getBoutMeans_, baselineBouts, getStats\n",
    "from miniscope.plotter import plotMean, plotHeat, plotTrials"
   ]
  },
  {
   "cell_type": "code",
   "execution_count": 2,
   "metadata": {
    "collapsed": true
   },
   "outputs": [],
   "source": [
    "# Start gathering the data from FR1 experiment\n",
    "# Mouse IDs and dataset IDs\n",
    "mice = [(8404, 6), (8857, 3), (8864, 1)]\n",
    "# Parameters\n",
    "# Behavior type\n",
    "behType = 'FR1'\n",
    "# Imaging frame rate\n",
    "fs = 0.05\n",
    "# Which trials to include\n",
    "trials=[1,12]\n",
    "# Do you want to save?\n",
    "save = False"
   ]
  },
  {
   "cell_type": "code",
   "execution_count": 3,
   "metadata": {
    "collapsed": true
   },
   "outputs": [],
   "source": [
    "# Get file paths for imaging data and behavior timestamps\n",
    "fileList = loopMice(mice, behType)\n",
    "\n",
    "# Load the imaging data\n",
    "dataList = loadData(mice, behType)\n",
    "\n",
    "# Load the behaviour timestamps\n",
    "eventList = getBeh(mice, fileList['Behaviour'], behType)"
   ]
  },
  {
   "cell_type": "code",
   "execution_count": 4,
   "metadata": {
    "collapsed": false
   },
   "outputs": [],
   "source": [
    "# FIlter and dFF\n",
    "filtList = filtData(mice, dffCalc(mice, dataList, lowest=False), cutoff=3.0, order=6)\n",
    "dFFList = smoothData(mice, filtList, window=5)"
   ]
  },
  {
   "cell_type": "code",
   "execution_count": 5,
   "metadata": {
    "collapsed": false,
    "scrolled": true
   },
   "outputs": [
    {
     "data": {
      "text/plain": [
       "('Mean bout duration: ',\n",
       " 8.2775555555555691,\n",
       " 'sec.Sem: ',\n",
       " 0.41408818063353187,\n",
       " 'Std: ',\n",
       " 2.4497787138665399)"
      ]
     },
     "execution_count": 5,
     "metadata": {},
     "output_type": "execute_result"
    }
   ],
   "source": [
    "from scipy.stats import sem\n",
    "Start = getEvents(mice, eventList, 'Eat_Start', trials)\n",
    "End = getEvents(mice, eventList, 'Eat_End', trials)\n",
    "boutDuration = End - Start\n",
    "\"Mean bout duration: \", boutDuration.values.mean(), \"sec.\" \"Sem: \", sem(boutDuration.values, axis=None), \"Std: \", np.std(boutDuration.values, axis=None)"
   ]
  },
  {
   "cell_type": "code",
   "execution_count": 6,
   "metadata": {
    "collapsed": true
   },
   "outputs": [],
   "source": [
    "# Do you want to save the figs and stats?\n",
    "save = False"
   ]
  },
  {
   "cell_type": "code",
   "execution_count": 7,
   "metadata": {
    "collapsed": true
   },
   "outputs": [],
   "source": [
    "# First half"
   ]
  },
  {
   "cell_type": "code",
   "execution_count": 8,
   "metadata": {
    "collapsed": false
   },
   "outputs": [
    {
     "name": "stdout",
     "output_type": "stream",
     "text": [
      "\n",
      "3  mice were loaded.\n",
      "\n",
      "Traces were not baselined.\n"
     ]
    },
    {
     "data": {
      "image/png": "[encoded data removed]",
      "text/plain": [
       "<matplotlib.figure.Figure at 0xce0fa20>"
      ]
     },
     "metadata": {},
     "output_type": "display_data"
    }
   ],
   "source": [
    "# Start running the analysis for Fixed-Ratio\n",
    "# Baseline before Eat_Start and compare to the eating bout\n",
    "\n",
    "# Eating bout first half\n",
    "Start = getEvents(mice, eventList, 'Eat_Start', trials)\n",
    "End = getEvents(mice, eventList, 'Eat_End', trials)\n",
    "eventStart = Start\n",
    "eventEnd = Start+((End-Start)/2)\n",
    "baseEvent = Start\n",
    "# Baseline equal to the event duration\n",
    "base = Start-End\n",
    "\n",
    "boutsDatafirst =  getBouts_(mice, dFFList, eventStart, eventEnd, baseEvent, base, behType, trials, baselining=False)\n",
    "boutMeansFR1first = getBoutMeans_(mice, boutsDatafirst, behType=behType, trials=trials, base=base, fs=fs)\n",
    "\n",
    "[statsFR1first, percFR1first] = getStats(boutMeansFR1first, choice='Ranksum', parameter='Auc', p_val=0.05)\n",
    "\n",
    "plt.style.use('classic')\n",
    "# Set the font dictionaries (for plot title and axis titles)\n",
    "font = {'sans-serif':'Arial', 'weight':'normal', 'size':12}\n",
    "plt.rc('font', **font)\n",
    "\n",
    "line = 1.5\n",
    "\n",
    "fig = plt.figure(figsize=(3,3), facecolor=\"w\", dpi= 150)\n",
    "ax = plt.subplot(111)\n",
    "percFR1first.T.plot.pie(ax=ax, y='Percentage (%)', autopct='%1.1f%%', explode=[.02,.02,.02], startangle=0, fontsize=12, legend=False, cmap=plt.cm.PiYG_r)\n",
    "wedges = [patch for patch in ax.patches if isinstance(patch, mpatches.Wedge)]\n",
    "for w in wedges:\n",
    "    w.set_linewidth(line)\n",
    "    w.set_edgecolor('w')    \n",
    "    \n",
    "if save:\n",
    "    fig.savefig(\"J:\\\\Hakan Kucukdereli\\\\Miniscope_Behaviour_MPIN\\\\scripts\\\\figures\\\\updownallaround_eat_bout_first_half.svg\")\n",
    "    statsFR1first.to_csv(\"J:\\\\Hakan Kucukdereli\\\\Miniscope_Behaviour_MPIN\\\\scripts\\\\figures\\\\first_draft\\\\first_half_stats.csv\")"
   ]
  },
  {
   "cell_type": "code",
   "execution_count": null,
   "metadata": {
    "collapsed": false,
    "scrolled": true
   },
   "outputs": [],
   "source": []
  },
  {
   "cell_type": "code",
   "execution_count": 9,
   "metadata": {
    "collapsed": true
   },
   "outputs": [],
   "source": [
    "# Second half"
   ]
  },
  {
   "cell_type": "code",
   "execution_count": 10,
   "metadata": {
    "collapsed": false
   },
   "outputs": [
    {
     "name": "stdout",
     "output_type": "stream",
     "text": [
      "\n",
      "3  mice were loaded.\n",
      "\n",
      "Traces were not baselined.\n"
     ]
    },
    {
     "data": {
      "image/png": "[encoded data removed]",
      "text/plain": [
       "<matplotlib.figure.Figure at 0xce0bc18>"
      ]
     },
     "metadata": {},
     "output_type": "display_data"
    }
   ],
   "source": [
    "# Start running the analysis for Fixed-Ratio\n",
    "# Baseline before Eat_Start and compare to the eating bout\n",
    "\n",
    "# Eating bout second half\n",
    "Start = getEvents(mice, eventList, 'Eat_Start', trials)\n",
    "End = getEvents(mice, eventList, 'Eat_End', trials)\n",
    "eventStart = End-((End-Start)/2)\n",
    "eventEnd = End\n",
    "baseEvent = Start\n",
    "# Baseline equal to the event duration\n",
    "base = Start-End\n",
    "\n",
    "boutsDatasecond =  getBouts_(mice, dFFList, eventStart, eventEnd, baseEvent, base, behType, trials, baselining=False)\n",
    "boutMeansFR1second = getBoutMeans_(mice, boutsDatasecond, behType=behType, trials=trials, base=base, fs=fs)\n",
    "\n",
    "[statsFR1second, percFR1second] = getStats(boutMeansFR1second, choice='Ranksum', parameter='Auc', p_val=0.05)\n",
    "\n",
    "plt.style.use('classic')\n",
    "# Set the font dictionaries (for plot title and axis titles)\n",
    "font = {'sans-serif':'Arial', 'weight':'normal', 'size':12}\n",
    "plt.rc('font', **font)\n",
    "\n",
    "line = 1.5\n",
    "\n",
    "fig = plt.figure(figsize=(3,3), facecolor=\"w\", dpi= 150)\n",
    "ax = plt.subplot(111)\n",
    "percFR1second.T.plot.pie(ax=ax, y='Percentage (%)', autopct='%1.1f%%', explode=[.02,.02,.02], startangle=0, fontsize=12, legend=False, cmap=plt.cm.PiYG_r)\n",
    "wedges = [patch for patch in ax.patches if isinstance(patch, mpatches.Wedge)]\n",
    "for w in wedges:\n",
    "    w.set_linewidth(line)\n",
    "    w.set_edgecolor('w')\n",
    "\n",
    "if save:\n",
    "    fig.savefig(\"J:\\\\Hakan Kucukdereli\\\\Miniscope_Behaviour_MPIN\\\\scripts\\\\figures\\\\updownallaround_eat_bout_second_half.svg\")\n",
    "    statsFR1second.to_csv(\"J:\\\\Hakan Kucukdereli\\\\Miniscope_Behaviour_MPIN\\\\scripts\\\\figures\\\\first_draft\\\\second_half_stats.csv\")"
   ]
  },
  {
   "cell_type": "code",
   "execution_count": null,
   "metadata": {
    "collapsed": true
   },
   "outputs": [],
   "source": []
  },
  {
   "cell_type": "code",
   "execution_count": 11,
   "metadata": {
    "collapsed": true
   },
   "outputs": [],
   "source": [
    "# Whole bout"
   ]
  },
  {
   "cell_type": "code",
   "execution_count": 12,
   "metadata": {
    "collapsed": false
   },
   "outputs": [
    {
     "name": "stdout",
     "output_type": "stream",
     "text": [
      "\n",
      "3  mice were loaded.\n",
      "\n",
      "Traces were not baselined.\n"
     ]
    },
    {
     "data": {
      "image/png": "[encoded data removed]",
      "text/plain": [
       "<matplotlib.figure.Figure at 0x953f128>"
      ]
     },
     "metadata": {},
     "output_type": "display_data"
    }
   ],
   "source": [
    "# Start running the analysis for Fixed-Ratio\n",
    "# Baseline before Eat_Start and compare to the eating bout\n",
    "\n",
    "# Eating bout\n",
    "Start = getEvents(mice, eventList, 'Eat_Start', trials)\n",
    "End = getEvents(mice, eventList, 'Eat_End', trials)\n",
    "eventStart = Start\n",
    "eventEnd = End\n",
    "baseEvent = Start\n",
    "# Baseline equal to the event duration\n",
    "base = Start-End\n",
    "\n",
    "boutsDatawhole =  getBouts_(mice, dFFList, eventStart, eventEnd, baseEvent, base, behType, trials, baselining=False)\n",
    "#boutsData =  getBouts(mice, dFFList, eventStart, eventEnd, baseEvent, base, behType, trials, baselining=False)\n",
    "boutMeansFR1whole = getBoutMeans_(mice, boutsDatawhole, behType=behType, trials=trials, base=base, fs=fs)\n",
    "\n",
    "[statsFR1whole, percFR1whole] = getStats(boutMeansFR1whole, choice='Ranksum', parameter='Auc', p_val=0.05)\n",
    "\n",
    "plt.style.use('classic')\n",
    "# Set the font dictionaries (for plot title and axis titles)\n",
    "font = {'sans-serif':'Arial', 'weight':'normal', 'size':12}\n",
    "plt.rc('font', **font)\n",
    "\n",
    "line = 1.5\n",
    "\n",
    "fig = plt.figure(figsize=(3,3), facecolor=\"w\", dpi= 150)\n",
    "ax = plt.subplot(111)\n",
    "percFR1whole.T.plot.pie(ax=ax, y='Percentage (%)', autopct='%1.1f%%', explode=[.02,.02,.02], startangle=0, fontsize=12, legend=False, cmap=plt.cm.PiYG_r)\n",
    "wedges = [patch for patch in ax.patches if isinstance(patch, mpatches.Wedge)]\n",
    "for w in wedges:\n",
    "    w.set_linewidth(line)\n",
    "    w.set_edgecolor('w')\n",
    "    \n",
    "if save:\n",
    "    fig.savefig(\"J:\\\\Hakan Kucukdereli\\\\Miniscope_Behaviour_MPIN\\\\scripts\\\\figures\\\\updownallaround_eat_bout_whole.svg\")\n",
    "    statsFR1whole.to_csv(\"J:\\\\Hakan Kucukdereli\\\\Miniscope_Behaviour_MPIN\\\\scripts\\\\figures\\\\first_draft\\\\whole_bout_stats.csv\")"
   ]
  },
  {
   "cell_type": "code",
   "execution_count": 11,
   "metadata": {
    "collapsed": false
   },
   "outputs": [],
   "source": [
    "statsFR1whole.to_pickle(\"C:\\\\Users\\\\hakan\\\\Documents\\\\statsFR1whole.pkl\")"
   ]
  }
 ],
 "metadata": {
  "anaconda-cloud": {},
  "kernelspec": {
   "display_name": "Python 2",
   "language": "python",
   "name": "python2"
  },
  "language_info": {
   "codemirror_mode": {
    "name": "ipython",
    "version": 2
   },
   "file_extension": ".py",
   "mimetype": "text/x-python",
   "name": "python",
   "nbconvert_exporter": "python",
   "pygments_lexer": "ipython2",
   "version": "2.7.11"
  }
 },
 "nbformat": 4,
 "nbformat_minor": 0
}
